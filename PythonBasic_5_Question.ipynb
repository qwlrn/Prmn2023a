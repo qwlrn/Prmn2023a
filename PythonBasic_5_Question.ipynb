{
  "cells": [
    {
      "cell_type": "markdown",
      "metadata": {
        "id": "view-in-github",
        "colab_type": "text"
      },
      "source": [
        "<a href=\"https://colab.research.google.com/github/qwlrn/Prmn2023a/blob/main/PythonBasic_5_Question.ipynb\" target=\"_parent\"><img src=\"https://colab.research.google.com/assets/colab-badge.svg\" alt=\"Open In Colab\"/></a>"
      ]
    },
    {
      "cell_type": "markdown",
      "metadata": {
        "id": "TA5kKi-LY1xg"
      },
      "source": [
        "<a href=\"https://colab.research.google.com/github/kiryu-3/Prmn2023/blob/main/Python/Python_Basic/question/PythonBasic_5_Question.ipynb\" target=\"_parent\"><img src=\"https://colab.research.google.com/assets/colab-badge.svg\" alt=\"Open In Colab\"/></a>"
      ]
    },
    {
      "cell_type": "markdown",
      "metadata": {
        "id": "r-kcfL2yEU8b"
      },
      "source": [
        "# 第5章 課題"
      ]
    },
    {
      "cell_type": "markdown",
      "metadata": {
        "id": "RWo2DmBs_2c4"
      },
      "source": [
        "## 課題1"
      ]
    },
    {
      "cell_type": "markdown",
      "metadata": {
        "id": "QRNvqmTgE8Ww"
      },
      "source": [
        "1桁の自然数を乱数を使って5つ格納した2つのリストを作ってください。  \n",
        "この時、一つのリスト内で5つの値が重複しないようにしてください\n",
        "\n",
        "その後、そのリストから重複する要素を削除した新しいリストと、   \n",
        "共通の要素を持つ新しいリストを出力してください"
      ]
    },
    {
      "cell_type": "markdown",
      "metadata": {
        "id": "Goi4CqGxFOpn"
      },
      "source": [
        "＜実行結果例＞\n",
        "``` py  \n",
        "1つ目のリスト：[1, 2, 3, 4, 5]  \n",
        "2つ目のリスト：[1, 3, 5, 7, 9]  \n",
        "重複削除リスト：[1, 2, 3, 4, 5, 7, 9] \n",
        "共通要素リスト：[1, 3, 5]\n",
        "```"
      ]
    },
    {
      "cell_type": "markdown",
      "metadata": {
        "id": "iEOFeFjqkkyS"
      },
      "source": [
        "＜ヒント＞ set関数を用いても用いなくても答えは出せます。"
      ]
    },
    {
      "cell_type": "code",
      "execution_count": null,
      "metadata": {
        "colab": {
          "base_uri": "https://localhost:8080/"
        },
        "id": "pQdhCOALMGWj",
        "outputId": "41f99d7b-a590-423c-daef-d55699ff4d83"
      },
      "outputs": [
        {
          "name": "stdout",
          "output_type": "stream",
          "text": [
            "[8, 7, 1, 5, 3]\n",
            "[2, 1, 9, 3, 5]\n",
            "[1, 5, 3, 8, 7, 2, 9]\n",
            "[8, 7, 2, 9]\n"
          ]
        }
      ],
      "source": [
        "# 入力用\n",
        "import random\n",
        "list1=random.sample(range(1,10),5)\n",
        "list2=random.sample(range(1,10),5)\n",
        "list3=list1+list2\n",
        "a=[]\n",
        "b=[]\n",
        "for i in range(len(list1)):\n",
        "  for z in range(len(list2)):\n",
        "    if (list1[i]==list2[z]):\n",
        "      a.append(list2[z])\n",
        "for i in range(len(list3)):\n",
        "  if(list3[i] not in a and list3[i] not in b):\n",
        "    b.append(list3[i])\n",
        "print(list1)\n",
        "print(list2)\n",
        "print(a+b)\n",
        "print(b)"
      ]
    },
    {
      "cell_type": "markdown",
      "metadata": {
        "id": "-qZw_n3X8xrW"
      },
      "source": [
        "## 課題2"
      ]
    },
    {
      "cell_type": "markdown",
      "metadata": {
        "id": "vxwATeobQf_U"
      },
      "source": [
        "共通のキーを持つ辞書を要素とするリストから、特定のキーの値のリストを取得してみます。"
      ]
    },
    {
      "cell_type": "markdown",
      "metadata": {
        "id": "tGPa1uU6Qs2c"
      },
      "source": [
        "以下のリストから、都道府県コード・都道府県・県庁所在地それぞれのリストを作成してください\n",
        "\n",
        "キーが存在しないところがある点に注意してください"
      ]
    },
    {
      "cell_type": "code",
      "execution_count": null,
      "metadata": {
        "id": "8ZdyRWbERGAY"
      },
      "outputs": [],
      "source": [
        "todohuken_data = [{\"コード\": 24, \"都道府県\": \"三重\", \"県庁所在地\": \"津\"},\n",
        "                  {\"コード\": 25, \"都道府県\": \"滋賀\", \"県庁所在地\": \"大津\"},\n",
        "                  {\"コード\": 31, \"都道府県\": \"鳥取\"},\n",
        "                  {\"コード\": 32, \"都道府県\": \"島根\", \"県庁所在地\": \"松江\"},\n",
        "                  {\"コード\": 37, \"都道府県\": \"香川\", \"県庁所在地\": \"高松\"},\n",
        "                  {\"コード\": 38, \"都道府県\": \"愛媛\", \"県庁所在地\": \"松山\"},]"
      ]
    },
    {
      "cell_type": "markdown",
      "metadata": {
        "id": "dQ2n3OMSUXh2"
      },
      "source": [
        "＜出力結果例＞  \n",
        "``` py\n",
        "[24, 25, 31, 32, 37, 38]  \n",
        "['三重', '滋賀', '鳥取', '島根', '香川', '愛媛']\n",
        "['津', '大津', None, '松江', '高松', '松山']\n",
        "```"
      ]
    },
    {
      "cell_type": "code",
      "execution_count": null,
      "metadata": {
        "colab": {
          "base_uri": "https://localhost:8080/"
        },
        "id": "duwCERgQUify",
        "outputId": "3d9f147c-daa9-47c8-9c2a-39ffc1c3a548"
      },
      "outputs": [
        {
          "name": "stdout",
          "output_type": "stream",
          "text": [
            "[24, 25, 31, 32, 37, 38]\n",
            "['三重', '滋賀', '鳥取', '島根', '香川', '愛媛']\n",
            "['津', '大津', None, '松江', '高松', '松山']\n"
          ]
        }
      ],
      "source": [
        "# 入力用\n",
        "a=[l.get('コード') for l in todohuken_data]\n",
        "b=[l.get('都道府県') for l in todohuken_data]\n",
        "c=[l.get('県庁所在地') for l in todohuken_data]\n",
        "print(a)\n",
        "print(b)\n",
        "print(c)"
      ]
    },
    {
      "cell_type": "markdown",
      "metadata": {
        "id": "1S8kadYgq_gV"
      },
      "source": [
        "## 課題3"
      ]
    },
    {
      "cell_type": "markdown",
      "metadata": {
        "id": "OdSKG7k9rA7V"
      },
      "source": [
        "ある文字列が与えられた場合、文字列内の各文字の出現回数をディクショナリの形で返してください\n",
        "\n",
        "大文字と小文字は区別してください  \n",
        "また、出力時はアルファベット順にソートした状態にしてください"
      ]
    },
    {
      "cell_type": "markdown",
      "metadata": {
        "id": "p0suMufQuEzI"
      },
      "source": [
        "＜実行結果例＞　「Hello, World!」の各文字のカウント\n",
        "``` py\n",
        "{'H': 1, 'W': 1, 'd': 1, 'e': 1, 'l': 3, 'o': 2, 'r': 1}\n",
        "```"
      ]
    },
    {
      "cell_type": "code",
      "execution_count": 16,
      "metadata": {
        "colab": {
          "base_uri": "https://localhost:8080/"
        },
        "id": "bHv50oDhrdzN",
        "outputId": "cf1e6181-ca61-4393-d93e-f067a5ebb9ee"
      },
      "outputs": [
        {
          "output_type": "stream",
          "name": "stdout",
          "text": [
            "Hello,World!!\n",
            "{'H': 1, 'W': 1, 'd': 1, 'e': 1, 'l': 3, 'o': 2, 'r': 1}\n"
          ]
        }
      ],
      "source": [
        "# 入力用\n",
        "\n",
        "string = input()#\"Hello,World!\"\n",
        "\n",
        "# アルファベット以外の文字を削除 最初に実行してください\n",
        "string = ''.join(c for c in string if c.isalpha())\n",
        "dic={}\n",
        "a=[]\n",
        "b=[]\n",
        "for i in range(len(string)):\n",
        "  if(string[i]not in a):\n",
        "    a.append(string[i])\n",
        "b=sorted(a)\n",
        "for i in range(len(b)):\n",
        "  dic[b[i]]=string.count(b[i])\n",
        "\n",
        "print(dic)"
      ]
    },
    {
      "cell_type": "markdown",
      "metadata": {
        "id": "W573lh39MOlj"
      },
      "source": [
        "## 課題4"
      ]
    },
    {
      "cell_type": "markdown",
      "metadata": {
        "id": "sSIMKY-aNcIx"
      },
      "source": [
        "ある大学の名前と年齢が、次のような形式で格納されたディクショナリ `university_dic` があります。"
      ]
    },
    {
      "cell_type": "code",
      "execution_count": null,
      "metadata": {
        "id": "v-wGyWuKK3wl"
      },
      "outputs": [],
      "source": [
        "university_dic={\n",
        "    \"Chitose\": 25,\n",
        "    \"Hokudai\": 105,\n",
        "    \"Muroran\": 74,\n",
        "    \"Hakodate\": 23,\n",
        "}"
      ]
    },
    {
      "cell_type": "markdown",
      "metadata": {
        "id": "XIxDf9QgO1iH"
      },
      "source": [
        "このリストを、年齢順にソートして、新たなディクショナリとして出力してください"
      ]
    },
    {
      "cell_type": "markdown",
      "metadata": {
        "id": "0Z2-_1dAQENU"
      },
      "source": [
        "＜実行結果＞  \n",
        "``` py\n",
        "{'Hakodate': 23, 'Chitose': 25, 'Muroran': 74, 'Hokudai': 105}\n",
        "```"
      ]
    },
    {
      "cell_type": "code",
      "execution_count": null,
      "metadata": {
        "colab": {
          "base_uri": "https://localhost:8080/"
        },
        "id": "ficNVfkgR5Kv",
        "outputId": "deba4320-7ee8-454f-9c7c-e408ee5b3f37"
      },
      "outputs": [
        {
          "name": "stdout",
          "output_type": "stream",
          "text": [
            "{'Chitose': 25, 'Hokudai': 105, 'Muroran': 74, 'Hakodate': 23}\n",
            "{'Hakodate': 23, 'Chitose': 25, 'Muroran': 74, 'Hokudai': 105}\n"
          ]
        }
      ],
      "source": [
        "# 入力用\n",
        "university_dic={\n",
        "    \"Chitose\": 25,\n",
        "    \"Hokudai\": 105,\n",
        "    \"Muroran\": 74,\n",
        "    \"Hakodate\": 23,\n",
        "}\n",
        "dic={}\n",
        "a=[]\n",
        "b=[]\n",
        "a=sorted(university_dic.values())\n",
        "b=sorted(university_dic.keys())\n",
        "for i in range(len(a)):\n",
        "  for z in range(len(b)):\n",
        "   if(university_dic[b[z]]==a[i]):\n",
        "    dic[b[z]]=a[i]\n",
        "print(university_dic)\n",
        "print(dic)\n"
      ]
    },
    {
      "cell_type": "markdown",
      "metadata": {
        "id": "QijnXk7UWAVC"
      },
      "source": [
        "## 課題5"
      ]
    },
    {
      "cell_type": "markdown",
      "metadata": {
        "id": "m7F47Q1mWCA6"
      },
      "source": [
        "**FizzBuzz（フィズ・バズ）問題**という問題について解いていきます。\n",
        "\n",
        "もともとは、英語圏で長距離ドライブ中や飲み会の時に行われる言葉遊びです。"
      ]
    },
    {
      "cell_type": "markdown",
      "metadata": {
        "id": "fArw0VcNWgwZ"
      },
      "source": [
        "以下のような問題になります。\n",
        "\n",
        "1～Nまでの整数を順に出力しなさい。ただし、例外として以下のルールを守ること。\n",
        "\n",
        "* 3で割り切れる数字の場合はFizzを出力\n",
        "* 5で割り切れる数字の場合はBuzzを出力\n",
        "* 7で割り切れる数字の場合はJazzを出力\n",
        "* 複数条件が当てはまる場合は組み合わせて出力（ \"FizzBuzz\", \"FizzJazz\", \"BuzzJazz\" など）"
      ]
    },
    {
      "cell_type": "markdown",
      "metadata": {
        "id": "SYqkpYstWm7Z"
      },
      "source": [
        "ここでは N=100として、まずは一つのリストに  \n",
        "\"Fizz\" か \"Buzz\" か \"Jazz\" か \"組み合わさったもの\" か \"others\" を格納してください。\n",
        "\n",
        "その後、それぞれの要素の数をカウントし、ディクショナリの形で出力してください。"
      ]
    },
    {
      "cell_type": "markdown",
      "metadata": {
        "id": "OqLuJTcWYzFt"
      },
      "source": [
        "＜実行結果例＞  \n",
        "``` py\n",
        "{'Fizz': 23, 'Buzz': 12, 'Jazz': 8, 'FizzBuzz': 6, 'FizzJazz': 4, 'BuzzJazz': 2, 'others': 45}\n",
        "```"
      ]
    },
    {
      "cell_type": "code",
      "execution_count": 17,
      "metadata": {
        "colab": {
          "base_uri": "https://localhost:8080/"
        },
        "id": "BLYbI0E48o2G",
        "outputId": "9746e53d-9a1b-45d0-d46a-d580e55dd0d7"
      },
      "outputs": [
        {
          "output_type": "stream",
          "name": "stdout",
          "text": [
            "{'Fizz': 23, 'Buzz': 12, 'Jazz': 8, 'FizzJazz': 4, 'FizzBuzz': 6, 'BuzzJazz': 2, 'other': 45}\n"
          ]
        }
      ],
      "source": [
        "# 入力用\n",
        "import random\n",
        "a=[]\n",
        "dic={}\n",
        "N=100\n",
        "for i in range(N):\n",
        "  if((i+1)%35==0):\n",
        "    a.append('BuzzJazz')\n",
        "  elif((i+1)%21==0):\n",
        "    a.append('FizzJazz')\n",
        "  elif((i+1)%15==0):\n",
        "    a.append('FizzBuzz')\n",
        "  elif((i+1)%3==0):\n",
        "    a.append('Fizz')\n",
        "  elif((i+1)%5==0):\n",
        "    a.append('Buzz')\n",
        "  elif((i+1)%7==0):\n",
        "    a.append('Jazz')\n",
        "  else:\n",
        "    a.append('other')\n",
        "\n",
        "\n",
        "dic['Fizz']=a.count('Fizz')\n",
        "dic['Buzz']=a.count('Buzz')\n",
        "dic['Jazz']=a.count('Jazz')\n",
        "dic['FizzJazz']=a.count('FizzJazz')\n",
        "dic['FizzBuzz']=a.count('FizzBuzz')\n",
        "dic['BuzzJazz']=a.count('BuzzJazz')\n",
        "dic['other']=a.count('other')\n",
        "print(dic)"
      ]
    }
  ],
  "metadata": {
    "colab": {
      "provenance": [],
      "include_colab_link": true
    },
    "kernelspec": {
      "display_name": "Python 3",
      "name": "python3"
    },
    "language_info": {
      "name": "python"
    }
  },
  "nbformat": 4,
  "nbformat_minor": 0
}